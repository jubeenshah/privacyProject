{
 "cells": [
  {
   "cell_type": "code",
   "execution_count": 65,
   "metadata": {},
   "outputs": [],
   "source": [
    "import yaml\n",
    "import pandas as pd\n",
    "import collections"
   ]
  },
  {
   "cell_type": "code",
   "execution_count": 16,
   "metadata": {},
   "outputs": [],
   "source": [
    "with open(\"./PrivacyPolicy/apple.yml\", 'r') as apple:\n",
    "    try:\n",
    "        applePolicyDict = (yaml.safe_load(apple))\n",
    "    except yaml.YAMLError as exc:\n",
    "        print(exc)"
   ]
  },
  {
   "cell_type": "code",
   "execution_count": 29,
   "metadata": {},
   "outputs": [
    {
     "data": {
      "text/plain": [
       "{'segment_id': 6,\n",
       " 'segment_text': 'Here are some examples of the types of personal information Apple may collect and how we may use it: What personal information we collect When you create an Apple ID, apply for commercial credit, purchase a product, download a software update, register for a class at an Apple Retail Store, contact us or participate in an online survey, we may collect a variety of information, including your name, mailing address, phone number, email address, contact preferences, and credit card information.',\n",
       " 'annotations': [{'practice': 'Contact_E_Mail_Address_1stParty',\n",
       "   'modality': 'PERFORMED'},\n",
       "  {'practice': 'Contact_Phone_Number_1stParty', 'modality': 'PERFORMED'},\n",
       "  {'practice': 'Contact_Postal_Address_1stParty', 'modality': 'PERFORMED'}],\n",
       " 'sentences': [{'sentence_text': 'When you create an Apple ID, apply for commercial credit, purchase a product, download a software update, register for a class at an Apple Retail Store, contact us or participate in an online survey, we may collect a variety of information, including your name, mailing address, phone number, email address, contact preferences, and credit card information.',\n",
       "   'annotations': [{'practice': 'Contact_E_Mail_Address_1stParty',\n",
       "     'modality': 'PERFORMED'},\n",
       "    {'practice': 'Contact_Phone_Number_1stParty', 'modality': 'PERFORMED'},\n",
       "    {'practice': 'Contact_Postal_Address_1stParty',\n",
       "     'modality': 'PERFORMED'}]}]}"
      ]
     },
     "execution_count": 29,
     "metadata": {},
     "output_type": "execute_result"
    }
   ],
   "source": [
    "applePolicyDict['segments'][6]"
   ]
  },
  {
   "cell_type": "code",
   "execution_count": 33,
   "metadata": {},
   "outputs": [
    {
     "data": {
      "text/plain": [
       "[{'practice': 'Contact_E_Mail_Address_1stParty', 'modality': 'PERFORMED'},\n",
       " {'practice': 'Contact_Phone_Number_1stParty', 'modality': 'PERFORMED'},\n",
       " {'practice': 'Contact_Postal_Address_1stParty', 'modality': 'PERFORMED'}]"
      ]
     },
     "execution_count": 33,
     "metadata": {},
     "output_type": "execute_result"
    }
   ],
   "source": [
    "applePolicyDict['segments'][6]['annotations']"
   ]
  },
  {
   "cell_type": "code",
   "execution_count": 70,
   "metadata": {},
   "outputs": [
    {
     "name": "stdout",
     "output_type": "stream",
     "text": [
      "Counter({'Identifier_IP_Address_1stParty': 8, 'Location_1stParty': 6, 'Identifier_Cookie_or_similar_Tech_1stParty': 6, 'Contact_E_Mail_Address_1stParty': 4, 'Contact_Phone_Number_1stParty': 4, 'Contact_Postal_Address_1stParty': 4, 'Location_3rdParty': 4, 'Contact_1stParty': 3, 'Demographic_Age_1stParty': 2, 'Contact_ZIP_1stParty': 2, 'Identifier_Device_ID_1stParty': 2, 'Identifier_Ad_ID_1stParty': 2, 'Identifier_Cookie_or_similar_Tech_3rdParty': 2, 'Identifier_MAC_1stParty': 2, 'Demographic_1stParty': 2, 'Identifier_IP_Address_3rdParty': 2, 'Location_Bluetooth_1stParty': 2, 'Location_Bluetooth_3rdParty': 2, 'Location_Cell_Tower_1stParty': 2, 'Location_Cell_Tower_3rdParty': 2, 'Location_GPS_1stParty': 2, 'Location_GPS_3rdParty': 2, 'Location_IP_Address_1stParty': 2, 'Location_IP_Address_3rdParty': 2, 'Location_WiFi_1stParty': 2, 'Location_WiFi_3rdParty': 2, 'Contact_3rdParty': 2})\n"
     ]
    }
   ],
   "source": [
    "test_list_performed = []\n",
    "test_list_notPerformed = []\n",
    "for index, value in enumerate(applePolicyDict['segments']):\n",
    "    if value['annotations'] != []:\n",
    "        #print(value['annotations'])\n",
    "        for annotation in value['annotations']:\n",
    "            #print(annotation['practice'])\n",
    "            test_list.append(annotation['practice'])\n",
    "        #break\n",
    "print(collections.Counter(test_list))"
   ]
  },
  {
   "cell_type": "code",
   "execution_count": 68,
   "metadata": {},
   "outputs": [
    {
     "name": "stdout",
     "output_type": "stream",
     "text": [
      "Counter({'Identifier_IP_Address_1stParty': 8, 'Location_1stParty': 6, 'Identifier_Cookie_or_similar_Tech_1stParty': 6, 'Contact_E_Mail_Address_1stParty': 4, 'Contact_Phone_Number_1stParty': 4, 'Contact_Postal_Address_1stParty': 4, 'Location_3rdParty': 4, 'Contact_1stParty': 3, 'Demographic_Age_1stParty': 2, 'Contact_ZIP_1stParty': 2, 'Identifier_Device_ID_1stParty': 2, 'Identifier_Ad_ID_1stParty': 2, 'Identifier_Cookie_or_similar_Tech_3rdParty': 2, 'Identifier_MAC_1stParty': 2, 'Demographic_1stParty': 2, 'Identifier_IP_Address_3rdParty': 2, 'Location_Bluetooth_1stParty': 2, 'Location_Bluetooth_3rdParty': 2, 'Location_Cell_Tower_1stParty': 2, 'Location_Cell_Tower_3rdParty': 2, 'Location_GPS_1stParty': 2, 'Location_GPS_3rdParty': 2, 'Location_IP_Address_1stParty': 2, 'Location_IP_Address_3rdParty': 2, 'Location_WiFi_1stParty': 2, 'Location_WiFi_3rdParty': 2, 'Contact_3rdParty': 2})\n"
     ]
    }
   ],
   "source": []
  },
  {
   "cell_type": "code",
   "execution_count": null,
   "metadata": {},
   "outputs": [],
   "source": []
  }
 ],
 "metadata": {
  "kernelspec": {
   "display_name": "Python 3",
   "language": "python",
   "name": "python3"
  },
  "language_info": {
   "codemirror_mode": {
    "name": "ipython",
    "version": 3
   },
   "file_extension": ".py",
   "mimetype": "text/x-python",
   "name": "python",
   "nbconvert_exporter": "python",
   "pygments_lexer": "ipython3",
   "version": "3.6.5"
  }
 },
 "nbformat": 4,
 "nbformat_minor": 2
}
